{
 "cells": [
  {
   "cell_type": "markdown",
   "metadata": {},
   "source": [
    "# ESA with Verbal Fluency "
   ]
  },
  {
   "cell_type": "markdown",
   "metadata": {},
   "source": [
    "## ESA FINN"
   ]
  },
  {
   "cell_type": "code",
   "execution_count": 1,
   "metadata": {},
   "outputs": [],
   "source": [
    "#Define misc variables\n",
    "ID = \"0001\"\n",
    "textfile = \"/Users/eiraaksnes/Documents/CFIN/Raw_Data/test.txt\"\n",
    "iterations = 30000 # input to Semantic-module\n",
    "\n",
    "#From Yund et al.:\n",
    "#ESA switch threshold is \"PercentRESA * MeanAllESA\" or the (Minimum sequence ESA)+0.00001 \n",
    "#so that there is at least one ESA switch.\n",
    "PercentRESA = 0.75\n"
   ]
  },
  {
   "cell_type": "code",
   "execution_count": 2,
   "metadata": {
    "scrolled": true
   },
   "outputs": [],
   "source": [
    "from dasem.semantic import Semantic"
   ]
  },
  {
   "cell_type": "markdown",
   "metadata": {},
   "source": [
    "### Example from DASEM, semantic relatedness"
   ]
  },
  {
   "cell_type": "markdown",
   "metadata": {},
   "source": [
    "#Example:\n",
    "\n",
    "  >>> semantic = Semantic(30000)  # and wait\n",
    "    >>> semantic.relatedness(['hund', 'kat', 'mus', 'fisk']).round(3)\n",
    "    array([[ 1.   ,  0.022,  0.005,  0.001],\n",
    "           [ 0.022,  1.   ,  0.002,  0.   ],\n",
    "           [ 0.005,  0.002,  1.   ,  0.01 ],\n",
    "           [ 0.001,  0.   ,  0.01 ,  1.   ]])"
   ]
  },
  {
   "cell_type": "code",
   "execution_count": 3,
   "metadata": {},
   "outputs": [
    {
     "name": "stdout",
     "output_type": "stream",
     "text": [
      "663.3296210765839\n"
     ]
    }
   ],
   "source": [
    "import time\n",
    "t = time.time()\n",
    "\n",
    "#Semantic(300) = 594 sec ≈ 10 min\n",
    "semantic = Semantic(300)\n",
    "\n",
    "elapsed = time.time()-t\n",
    "print(elapsed)\n"
   ]
  },
  {
   "cell_type": "code",
   "execution_count": 5,
   "metadata": {},
   "outputs": [
    {
     "name": "stdout",
     "output_type": "stream",
     "text": [
      "/Users/eiraaksnes/Documents/CFIN/Raw_Data\n"
     ]
    }
   ],
   "source": [
    "#cd /Users/eiraaksnes/Documents/CFIN/Raw_Data"
   ]
  },
  {
   "cell_type": "code",
   "execution_count": 9,
   "metadata": {},
   "outputs": [
    {
     "name": "stdout",
     "output_type": "stream",
     "text": [
      "['Hest', 'Hund', 'Kat', 'Mus']\n"
     ]
    }
   ],
   "source": [
    "inputs = [line.rstrip() for line in open(textfile)]\n",
    "print(inputs)"
   ]
  },
  {
   "cell_type": "code",
   "execution_count": null,
   "metadata": {},
   "outputs": [],
   "source": [
    "#Clean inputs for duplicates (and unknowns? - can't do that until we've run semantic.relatedness...)\n",
    "#need to figure out what semantic.relatedness does to \"unknown\" concepts/words"
   ]
  },
  {
   "cell_type": "code",
   "execution_count": 21,
   "metadata": {},
   "outputs": [
    {
     "name": "stdout",
     "output_type": "stream",
     "text": [
      "['Hest\\n', 'Hund\\n', 'Kat\\n', 'Mus\\n']\n"
     ]
    }
   ],
   "source": [
    "#Deprecated code\n",
    "#Open txt. file with VF responses\n",
    "\n",
    "file = open(\"test.txt\", 'r')\n",
    "inputs = []\n",
    "#print(file)\n",
    "for line in file:\n",
    "    inputs.append(line)\n",
    "\n",
    "print(inputs)"
   ]
  },
  {
   "cell_type": "code",
   "execution_count": 24,
   "metadata": {},
   "outputs": [
    {
     "data": {
      "text/plain": [
       "array([[1.   , 0.007, 0.003, 0.002],\n",
       "       [0.007, 1.   , 0.02 , 0.005],\n",
       "       [0.003, 0.02 , 1.   , 0.01 ],\n",
       "       [0.002, 0.005, 0.01 , 1.   ]])"
      ]
     },
     "execution_count": 24,
     "metadata": {},
     "output_type": "execute_result"
    }
   ],
   "source": [
    "semantic.relatedness(inputs).round(3)"
   ]
  },
  {
   "cell_type": "code",
   "execution_count": 16,
   "metadata": {},
   "outputs": [
    {
     "name": "stdout",
     "output_type": "stream",
     "text": [
      "Hest-Hund = 0.007\n",
      "Hund-Kat = 0.02\n",
      "Kat-Mus = 0.01\n"
     ]
    }
   ],
   "source": [
    "ESA_table = semantic.relatedness(inputs).round(3)\n",
    "for n, i in enumerate(inputs):     \n",
    "    if n > 0:\n",
    "        print(f\"{inputs[n-1]}-{i} = {ESA_table[n, n-1]}\")\n",
    "#print(ESA[1,0])"
   ]
  },
  {
   "cell_type": "code",
   "execution_count": 13,
   "metadata": {},
   "outputs": [
    {
     "data": {
      "text/plain": [
       "'Hest-Hund'"
      ]
     },
     "execution_count": 13,
     "metadata": {},
     "output_type": "execute_result"
    }
   ],
   "source": []
  },
  {
   "cell_type": "code",
   "execution_count": 29,
   "metadata": {},
   "outputs": [
    {
     "name": "stdout",
     "output_type": "stream",
     "text": [
      "{'Hest-Hund': 0.007, 'Hund-Kat': 0.02, 'Kat-Mus': 0.01}\n",
      "\n",
      "Mean (chronological pairwise) ESA for Participant ID XYZ: 0.012\n"
     ]
    }
   ],
   "source": [
    "#Extract ESA values for continuous (i.e., chronological) pairs\n",
    "ESA = []\n",
    "DictESA = {}\n",
    "SumESA = 0.0\n",
    "\n",
    "for i in range(len(inputs)-1):\n",
    "    OneESA = ESA_table[i,i+1]\n",
    "    DictESA[f\"{inputs[i]}-{inputs[i+1]}\"] = OneESA \n",
    "    ESA = ESA + [OneESA]\n",
    "    #ESA.append(OneESA)\n",
    "    SumESA = SumESA + OneESA\n",
    "    \n",
    "MeanESA = SumESA / len(ESA)\n",
    "\n",
    "print(DictESA)\n",
    "print(f\"\\nMean (chronological pairwise) ESA for Participant ID XYZ: {MeanESA.round(3)}\")\n"
   ]
  },
  {
   "cell_type": "code",
   "execution_count": 28,
   "metadata": {},
   "outputs": [
    {
     "name": "stdout",
     "output_type": "stream",
     "text": [
      "['Hest', 'Hund', 'Kat', 'Mus']\n",
      "[[1.    0.007 0.003 0.002]\n",
      " [0.007 1.    0.02  0.005]\n",
      " [0.003 0.02  1.    0.01 ]\n",
      " [0.002 0.005 0.01  1.   ]]\n",
      "{'Hest-Hund': 0.007, 'Hest-Kat': 0.003, 'Hest-Mus': 0.002, 'Hund-Kat': 0.02, 'Hund-Mus': 0.005, 'Kat-Mus': 0.01}\n",
      "\n",
      "Mean All ESA for Participant ID XYZ: 0.008\n",
      "\n",
      "SOI Participant ID XYZ: 1.574\n"
     ]
    }
   ],
   "source": [
    "#Extract ESA values for all possible pairs\n",
    "DictAllESA = {}\n",
    "N_AllESA = 0\n",
    "SumAllESA = 0.0\n",
    "\n",
    "for i in range(len(inputs)-1):\n",
    "    for j in range(i+1, len(inputs)):\n",
    "            OneESA = ESA_table[i,j]\n",
    "            DictAllESA[f\"{inputs[i]}-{inputs[j]}\"] = OneESA\n",
    "            N_AllESA = N_AllESA + 1\n",
    "            SumAllESA = SumAllESA + OneESA\n",
    "        \n",
    "if (N_AllESA == 0):\n",
    "    MeanAllESA = 0.0\n",
    "    SOI = 0.0\n",
    "else:\n",
    "    MeanAllESA = SumAllESA / N_AllESA\n",
    "    if MeanAllESA == 0.0:\n",
    "        SOI = 0.0\n",
    "    else:\n",
    "        SOI = MeanESA / MeanAllESA\n",
    "\n",
    "print(inputs)\n",
    "print(ESA_table)\n",
    "print(DictAllESA)\n",
    "print(f\"\\nMean All ESA for Participant ID XYZ: {MeanAllESA.round(3)}\")\n",
    "print(f\"\\nSOI Participant ID XYZ: {SOI.round(3)}\")\n"
   ]
  },
  {
   "cell_type": "markdown",
   "metadata": {},
   "source": [
    "## Clusters and switches"
   ]
  },
  {
   "cell_type": "code",
   "execution_count": null,
   "metadata": {},
   "outputs": [],
   "source": [
    "# Testing the not-so-clean code\n",
    "ESAsort = []\t\t# Need independent ESA list to sort, for quartiles.\n",
    "for i in range(len(ESA)):\n",
    "    ESAsort = ESAsort + [ESA[i]]\n",
    "\n",
    "#\n",
    "ESAsort.sort()\n",
    "\n",
    "ESAsort2 = ESA.sort()\n",
    "\n",
    "print([ESAsort ESAsort2])"
   ]
  },
  {
   "cell_type": "code",
   "execution_count": null,
   "metadata": {},
   "outputs": [],
   "source": []
  },
  {
   "cell_type": "code",
   "execution_count": null,
   "metadata": {},
   "outputs": [],
   "source": [
    "#ESAswitch \n",
    "ESAsw = []  # Initialize ESA switch array.\n",
    "    ESAcs = []  # Initialize ESA cluster array.\n",
    "    for i in range(len(inputs)-1):\n",
    "        ESAcs = ESAcs + [' ']\n",
    "        if ESA[i] < ESA_Threshold:\n",
    "            ESAsw = ESAsw + [1]\n",
    "        else:\n",
    "            ESAsw = ESAsw + [0]"
   ]
  },
  {
   "cell_type": "markdown",
   "metadata": {},
   "source": [
    "## ESA William"
   ]
  },
  {
   "cell_type": "code",
   "execution_count": null,
   "metadata": {},
   "outputs": [],
   "source": [
    "ESA = []\n",
    "    #\n",
    "    for i in range(len(AnimalIndex)):\n",
    "        if i == 0:\n",
    "            ESA = []\n",
    "            SumESA = 0.0\n",
    "        elif ('UNKNOWN' in VF_Animals[AnimalIndex[i]]) | ('UNKNOWN' in VF_Animals[AnimalIndex[i-1]]):\n",
    "            ESA = ESA + [0.0000000]\n",
    "        else:\n",
    "            OneESA = ESA_2s[AnimalIndex[i]][AnimalIndex[i-1]]\n",
    "            ESA = ESA + [OneESA]\n",
    "            SumESA = SumESA + OneESA\n",
    "\n",
    "    #\n",
    "    MeanESA = SumESA / len(ESA)\n",
    "    #\n",
    "    N_AllESA = 0\n",
    "    SumAllESA = 0.0\n",
    "    #\n",
    "    tmp = 0\n",
    "    for i in range(0, (len(AnimalIndex)-1)):\n",
    "        for j in range(i+1, len(AnimalIndex)):\n",
    "            if (Dups[i] == 1) | (Dups[j] == 1):\n",
    "                tmp = tmp + 1\n",
    "            elif ('UNKNOWN' in VF_Animals[AnimalIndex[i]]) | ('UNKNOWN' in VF_Animals[AnimalIndex[j]]):\n",
    "                N_AllESA = N_AllESA + 1\n",
    "            else:\n",
    "                OneESA = ESA_2s[AnimalIndex[i]][AnimalIndex[j]]\n",
    "                N_AllESA = N_AllESA + 1\n",
    "                SumAllESA = SumAllESA + OneESA\n",
    "\n",
    "    #\n",
    "    if (N_AllESA == 0):\n",
    "        MeanAllESA = 0.0\n",
    "        SOI = 0.0\n",
    "    else:\n",
    "        MeanAllESA = SumAllESA / N_AllESA\n",
    "        if MeanAllESA == 0.0:\n",
    "            SOI = 0.0\n",
    "        else:\n",
    "            SOI = MeanESA / MeanAllESA\n",
    "    #\n",
    "    outfile.write('\\n\\nSequence Mean ESA:  ')\n",
    "    outfile.write(format(MeanESA, '10.4f'))\n",
    "    outfile.write('\\nTotal Mean ESA:     ')\n",
    "    outfile.write(format(MeanAllESA, '10.4f'))\n",
    "    outfile.write('\\nSem Org Index (SOI):')\n",
    "    outfile.write(format(SOI, '10.4f'))\n",
    "    #\n",
    "    ESAsort = []\t\t# Need independent ESA list to sort, for quartiles.\n",
    "    for i in range(len(ESA)):\n",
    "        ESAsort = ESAsort + [ESA[i]]\n",
    "\n",
    "    #\n",
    "    ESAsort.sort()\n",
    "    ESA_Threshold = PercentRESA * MeanAllESA  # ESA switch if ESA < ESA_Threshold\n",
    "    if ESA_Threshold < ESAsort[0]:\n",
    "        ESA_Threshold = ESAsort[0] + 0.000001\n",
    "    #\n",
    "    ESAsw = []  # Initialize ESA switch array.\n",
    "    ESAcs = []  # Initialize ESA cluster array.\n",
    "    for i in range(len(AnimalIndex)-1):\n",
    "        ESAcs = ESAcs + [' ']\n",
    "        if ESA[i] < ESA_Threshold:\n",
    "            ESAsw = ESAsw + [1]\n",
    "        else:\n",
    "            ESAsw = ESAsw + [0]\n",
    "\n",
    "    # There is one ESAcs for each word, but one less ESAsw\n",
    "    ESAcs = ESAcs + [' ']\n",
    "    iiESAsw = len(ESAsw) - 1\n",
    "    ii = 1\n",
    "    #  SumCS and NumCS to compute mean multi-word cluster size.\n",
    "    SumCS = 0.0\n",
    "    NumCS = 0.0\n",
    "    for i in range(iiESAsw, -1, -1):\n",
    "        if (ESAsw[i] == 0):\n",
    "            ii = ii + 1\n",
    "        else:\n",
    "            #\t\tprint (i, ii)\n",
    "            ESAcs[i+1] = str(ii)\n",
    "            if (ii > 1):\n",
    "                SumCS = SumCS + ii\n",
    "                NumCS = NumCS + 1\n",
    "            ii = 1\n",
    "    ESAcs[0] = str(ii)\n",
    "    if (ii > 1):\n",
    "        SumCS = SumCS + ii\n",
    "        NumCS = NumCS + 1\n",
    "    #\n",
    "    if NumCS == 0:\n",
    "        NumCS = 1\n",
    "    sumESAsw = sum(ESAsw)\n",
    "    if sumESAsw == 0:\n",
    "        sumESAsw = 1\n",
    "    outfile.write('\\n\\nESA switches:       ')\n",
    "    outfile.write(format(sum(ESAsw), '>4d'))\n",
    "    outfile.write('  (')\n",
    "    outfile.write(format(N_Totl/sumESAsw, '5.2f'))\n",
    "    outfile.write(' words/switch)')\n",
    "    outfile.write('  (')\n",
    "    outfile.write(format(SumCS/NumCS, '5.2f'))\n",
    "    outfile.write(' words/cluster)')"
   ]
  }
 ],
 "metadata": {
  "kernelspec": {
   "display_name": "Python 3",
   "language": "python",
   "name": "python3"
  },
  "language_info": {
   "codemirror_mode": {
    "name": "ipython",
    "version": 3
   },
   "file_extension": ".py",
   "mimetype": "text/x-python",
   "name": "python",
   "nbconvert_exporter": "python",
   "pygments_lexer": "ipython3",
   "version": "3.7.3"
  }
 },
 "nbformat": 4,
 "nbformat_minor": 2
}

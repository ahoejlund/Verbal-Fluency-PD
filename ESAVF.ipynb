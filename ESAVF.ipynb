{
 "cells": [
  {
   "cell_type": "markdown",
   "metadata": {},
   "source": [
    "# ESA with Verbal Fluency "
   ]
  },
  {
   "cell_type": "markdown",
   "metadata": {},
   "source": [
    "## ESA FINN"
   ]
  },
  {
   "cell_type": "code",
   "execution_count": 6,
   "metadata": {
    "collapsed": true
   },
   "outputs": [],
   "source": [
    "#Define misc variables\n",
    "ID = \"0001\"\n",
    "textfile = \"/Users/au183362/Documents/postdoc/Parkinson-DBS/Eira_Aksnes/raw/test.txt\"\n",
    "iterations = 30000 # input to Semantic-module\n",
    "\n",
    "#From Yund et al.:\n",
    "#ESA switch threshold is \"PercentRESA * MeanAllESA\" or the (Minimum sequence ESA)+0.00001 \n",
    "#so that there is at least one ESA switch.\n",
    "PercentRESA = 0.75\n"
   ]
  },
  {
   "cell_type": "code",
   "execution_count": 2,
   "metadata": {
    "collapsed": true,
    "scrolled": true
   },
   "outputs": [],
   "source": [
    "from dasem.semantic import Semantic"
   ]
  },
  {
   "cell_type": "markdown",
   "metadata": {},
   "source": [
    "### Example from DASEM, semantic relatedness"
   ]
  },
  {
   "cell_type": "markdown",
   "metadata": {},
   "source": [
    "#Example:\n",
    "\n",
    "  >>> semantic = Semantic(30000)  # and wait\n",
    "    >>> semantic.relatedness(['hund', 'kat', 'mus', 'fisk']).round(3)\n",
    "    array([[ 1.   ,  0.022,  0.005,  0.001],\n",
    "           [ 0.022,  1.   ,  0.002,  0.   ],\n",
    "           [ 0.005,  0.002,  1.   ,  0.01 ],\n",
    "           [ 0.001,  0.   ,  0.01 ,  1.   ]])"
   ]
  },
  {
   "cell_type": "code",
   "execution_count": 3,
   "metadata": {},
   "outputs": [
    {
     "name": "stdout",
     "output_type": "stream",
     "text": [
      "2019-09-22 22:04:23,957 - __main__ - INFO - Downloading https://dumps.wikimedia.org/dawiki/latest/dawiki-latest-pages-articles.xml.bz2 to /Users/au183362/dasem_data/wikipedia/dawiki-latest-pages-articles.xml.bz2\r\n"
     ]
    }
   ],
   "source": [
    "!python -m dasem.wikipedia download --verbose"
   ]
  },
  {
   "cell_type": "code",
   "execution_count": 4,
   "metadata": {},
   "outputs": [
    {
     "name": "stdout",
     "output_type": "stream",
     "text": [
      "500.948143005\n"
     ]
    }
   ],
   "source": [
    "import time\n",
    "t = time.time()\n",
    "\n",
    "#On Eira's macbook:\n",
    "#Both Semantic(300) and Semantic(30) = 600-700 sec ≈ 10-12 min\n",
    "#On AH's macbook: Semantic(30000) = 500 sec ≈ 8 min\n",
    "semantic = Semantic(iterations)\n",
    "\n",
    "elapsed = time.time()-t\n",
    "print(elapsed)\n"
   ]
  },
  {
   "cell_type": "code",
   "execution_count": 5,
   "metadata": {},
   "outputs": [
    {
     "name": "stdout",
     "output_type": "stream",
     "text": [
      "/Users/eiraaksnes/Documents/CFIN/Raw_Data\n"
     ]
    }
   ],
   "source": [
    "#cd /Users/eiraaksnes/Documents/CFIN/Raw_Data"
   ]
  },
  {
   "cell_type": "code",
   "execution_count": 7,
   "metadata": {},
   "outputs": [
    {
     "name": "stdout",
     "output_type": "stream",
     "text": [
      "['Hest', 'Hund', 'Kat', 'Mus']\n"
     ]
    }
   ],
   "source": [
    "inputs = [line.rstrip() for line in open(textfile)]\n",
    "print(inputs)"
   ]
  },
  {
   "cell_type": "code",
   "execution_count": null,
   "metadata": {
    "collapsed": true
   },
   "outputs": [],
   "source": [
    "#Clean inputs for duplicates (and unknowns? - can't do that until we've run semantic.relatedness...)\n",
    "#need to figure out what semantic.relatedness does to \"unknown\" concepts/words"
   ]
  },
  {
   "cell_type": "code",
   "execution_count": 8,
   "metadata": {},
   "outputs": [
    {
     "data": {
      "text/plain": [
       "array([[1.   , 0.007, 0.003, 0.002],\n",
       "       [0.007, 1.   , 0.02 , 0.006],\n",
       "       [0.003, 0.02 , 1.   , 0.01 ],\n",
       "       [0.002, 0.006, 0.01 , 1.   ]])"
      ]
     },
     "execution_count": 8,
     "metadata": {},
     "output_type": "execute_result"
    }
   ],
   "source": [
    "semantic.relatedness(inputs).round(3)"
   ]
  },
  {
   "cell_type": "code",
   "execution_count": 31,
   "metadata": {},
   "outputs": [
    {
     "name": "stdout",
     "output_type": "stream",
     "text": [
      "Hest-Hund = 0.007\n",
      "Hund-Kat = 0.020\n",
      "Kat-Mus = 0.010\n"
     ]
    }
   ],
   "source": [
    "ESA_table = semantic.relatedness(inputs).round(3)\n",
    "for n, i in enumerate(inputs):     \n",
    "    if n > 0:\n",
    "        print(\"{0:s}-{1:s} = {2:2.3f}\".format(inputs[n-1], i, ESA_table[n, n-1]))\n",
    "#print(ESA[1,0])"
   ]
  },
  {
   "cell_type": "code",
   "execution_count": 35,
   "metadata": {},
   "outputs": [
    {
     "name": "stdout",
     "output_type": "stream",
     "text": [
      "{'Kat-Mus': 0.01, 'Hund-Kat': 0.02, 'Hest-Hund': 0.007}\n",
      "\n",
      "Mean (chronological pairwise) ESA for Participant ID XYZ: 0.012\n"
     ]
    }
   ],
   "source": [
    "#Extract ESA values for continuous (i.e., chronological) pairs\n",
    "ESA = []\n",
    "DictESA = {}\n",
    "SumESA = 0.0\n",
    "\n",
    "for i in range(len(inputs)-1):\n",
    "    OneESA = ESA_table[i,i+1]\n",
    "    DictESA[\"{0:s}-{1:s}\".format(inputs[i], inputs[i+1])] = OneESA \n",
    "    ESA = ESA + [OneESA]\n",
    "    #ESA.append(OneESA)\n",
    "    SumESA = SumESA + OneESA\n",
    "    \n",
    "MeanESA = SumESA / len(ESA)\n",
    "\n",
    "print(DictESA)\n",
    "print(\"\\nMean (chronological pairwise) ESA for Participant ID XYZ: {0:2.3f}\".format(MeanESA.round(3)))\n"
   ]
  },
  {
   "cell_type": "code",
   "execution_count": 38,
   "metadata": {},
   "outputs": [
    {
     "name": "stdout",
     "output_type": "stream",
     "text": [
      "['Hest', 'Hund', 'Kat', 'Mus']\n",
      "[[1.    0.007 0.003 0.002]\n",
      " [0.007 1.    0.02  0.006]\n",
      " [0.003 0.02  1.    0.01 ]\n",
      " [0.002 0.006 0.01  1.   ]]\n",
      "{'Hest-Mus': 0.002, 'Hest-Hund': 0.007, 'Hund-Kat': 0.02, 'Kat-Mus': 0.01, 'Hest-Kat': 0.003, 'Hund-Mus': 0.006}\n",
      "\n",
      "Mean All ESA for Participant ID XYZ: 0.008\n",
      "\n",
      "SOI Participant ID XYZ: 1.542\n"
     ]
    }
   ],
   "source": [
    "#Extract ESA values for all possible pairs\n",
    "DictAllESA = {}\n",
    "N_AllESA = 0\n",
    "SumAllESA = 0.0\n",
    "\n",
    "for i in range(len(inputs)-1):\n",
    "    for j in range(i+1, len(inputs)):\n",
    "            OneESA = ESA_table[i,j]\n",
    "            DictAllESA[\"{0:s}-{1:s}\".format(inputs[i], inputs[j])] = OneESA\n",
    "            N_AllESA = N_AllESA + 1\n",
    "            SumAllESA = SumAllESA + OneESA\n",
    "        \n",
    "if (N_AllESA == 0):\n",
    "    MeanAllESA = 0.0\n",
    "    SOI = 0.0\n",
    "else:\n",
    "    MeanAllESA = SumAllESA / N_AllESA\n",
    "    if MeanAllESA == 0.0:\n",
    "        SOI = 0.0\n",
    "    else:\n",
    "        SOI = MeanESA / MeanAllESA\n",
    "\n",
    "print(inputs)\n",
    "print(ESA_table)\n",
    "print(DictAllESA)\n",
    "print(\"\\nMean All ESA for Participant ID XYZ: {0:2.3f}\".format(MeanAllESA.round(3)))\n",
    "print(\"\\nSOI Participant ID XYZ: {0:2.3f}\".format(SOI.round(3)))\n"
   ]
  },
  {
   "cell_type": "markdown",
   "metadata": {},
   "source": [
    "## Clusters and switches"
   ]
  },
  {
   "cell_type": "code",
   "execution_count": 56,
   "metadata": {},
   "outputs": [
    {
     "name": "stdout",
     "output_type": "stream",
     "text": [
      "0.007001\n"
     ]
    }
   ],
   "source": [
    "# Setting the ESA_Threshold\n",
    "ESA.sort()\n",
    "ESA_Threshold = PercentRESA * MeanAllESA  # ESA switch if ESA < ESA_Threshold\n",
    "if ESA_Threshold < ESAsort[0]:\n",
    "    ESA_Threshold = ESAsort[0] + 0.000001\n",
    "print(ESA_Threshold)"
   ]
  },
  {
   "cell_type": "code",
   "execution_count": 63,
   "metadata": {},
   "outputs": [
    {
     "ename": "NameError",
     "evalue": "name 'SumCs' is not defined",
     "output_type": "error",
     "traceback": [
      "\u001b[0;31m---------------------------------------------------------------------------\u001b[0m",
      "\u001b[0;31mNameError\u001b[0m                                 Traceback (most recent call last)",
      "\u001b[0;32m<ipython-input-63-90e14be24123>\u001b[0m in \u001b[0;36m<module>\u001b[0;34m()\u001b[0m\n\u001b[0;32m----> 1\u001b[0;31m \u001b[0;32mprint\u001b[0m\u001b[0;34m(\u001b[0m\u001b[0mSumCs\u001b[0m\u001b[0;34m)\u001b[0m\u001b[0;34m\u001b[0m\u001b[0m\n\u001b[0m\u001b[1;32m      2\u001b[0m \u001b[0;32mprint\u001b[0m\u001b[0;34m(\u001b[0m\u001b[0mNumCs\u001b[0m\u001b[0;34m)\u001b[0m\u001b[0;34m\u001b[0m\u001b[0m\n",
      "\u001b[0;31mNameError\u001b[0m: name 'SumCs' is not defined"
     ]
    }
   ],
   "source": []
  },
  {
   "cell_type": "code",
   "execution_count": null,
   "metadata": {
    "collapsed": true
   },
   "outputs": [],
   "source": []
  },
  {
   "cell_type": "code",
   "execution_count": 61,
   "metadata": {},
   "outputs": [
    {
     "name": "stdout",
     "output_type": "stream",
     "text": [
      "[1, 0, 0]\n"
     ]
    }
   ],
   "source": [
    "ESAsw = [int(esa<ESA_Threshold) for esa in ESA]\n",
    "print(ESAsw)"
   ]
  },
  {
   "cell_type": "code",
   "execution_count": null,
   "metadata": {
    "collapsed": true
   },
   "outputs": [],
   "source": [
    "#ESA switches\n",
    "ESAsw = [int(esa<ESA_Threshold) for esa in ESA]\n"
   ]
  },
  {
   "cell_type": "code",
   "execution_count": 68,
   "metadata": {},
   "outputs": [
    {
     "ename": "NameError",
     "evalue": "name 'NumCs' is not defined",
     "output_type": "error",
     "traceback": [
      "\u001b[0;31m---------------------------------------------------------------------------\u001b[0m",
      "\u001b[0;31mNameError\u001b[0m                                 Traceback (most recent call last)",
      "\u001b[0;32m<ipython-input-68-f3a365d2fbc3>\u001b[0m in \u001b[0;36m<module>\u001b[0;34m()\u001b[0m\n\u001b[1;32m     38\u001b[0m     \u001b[0msumESAsw\u001b[0m \u001b[0;34m=\u001b[0m \u001b[0;36m1\u001b[0m\u001b[0;34m\u001b[0m\u001b[0m\n\u001b[1;32m     39\u001b[0m \u001b[0;34m\u001b[0m\u001b[0m\n\u001b[0;32m---> 40\u001b[0;31m \u001b[0mNumCs\u001b[0m\u001b[0;34m\u001b[0m\u001b[0m\n\u001b[0m\u001b[1;32m     41\u001b[0m \u001b[0;31m#print(NumCs)\u001b[0m\u001b[0;34m\u001b[0m\u001b[0;34m\u001b[0m\u001b[0m\n",
      "\u001b[0;31mNameError\u001b[0m: name 'NumCs' is not defined"
     ]
    }
   ],
   "source": [
    "##### Yund-code\n",
    "#ESAswitch \n",
    "ESAsw = []  # Initialize ESA switch array.\n",
    "ESAcs = []  # Initialize ESA cluster array.\n",
    "for i in range(len(inputs)-1):\n",
    "    ESAcs = ESAcs + [' ']\n",
    "    if ESA[i] < ESA_Threshold:\n",
    "        ESAsw = ESAsw + [1]\n",
    "    else:\n",
    "        ESAsw = ESAsw + [0]\n",
    "        \n",
    "# There is one ESAcs for each word, but one less ESAsw\n",
    "ESAcs = ESAcs + [' ']\n",
    "iiESAsw = len(ESAsw) - 1\n",
    "ii = 1\n",
    "#  SumCS and NumCS to compute mean multi-word cluster size.\n",
    "SumCS = 0.0\n",
    "NumCS = 0.0\n",
    "for i in range(iiESAsw, -1, -1):\n",
    "    if (ESAsw[i] == 0):\n",
    "        ii = ii + 1\n",
    "    else:\n",
    "        #\t\tprint (i, ii)\n",
    "        ESAcs[i+1] = str(ii)\n",
    "        if (ii > 1):\n",
    "            SumCS = SumCS + ii\n",
    "            NumCS = NumCS + 1\n",
    "        ii = 1\n",
    "ESAcs[0] = str(ii)\n",
    "if (ii > 1):\n",
    "    SumCS = SumCS + ii\n",
    "    NumCS = NumCS + 1\n",
    "#\n",
    "if NumCS == 0:\n",
    "    NumCS = 1\n",
    "sumESAsw = sum(ESAsw)\n",
    "if sumESAsw == 0:\n",
    "    sumESAsw = 1\n",
    "    \n",
    "#print(NumCs)"
   ]
  },
  {
   "cell_type": "markdown",
   "metadata": {},
   "source": [
    "## Create/save output file"
   ]
  },
  {
   "cell_type": "code",
   "execution_count": null,
   "metadata": {
    "collapsed": true
   },
   "outputs": [],
   "source": [
    "#Create output file for each subject (.txt)\n",
    "#NB! not all entries in the below code are relevant for our current analysis\n",
    "\n",
    "#create/open file for writing output\n",
    "outfile = open('output_' + ID +'_Out.txt', 'w')\n",
    "\n",
    "#summary values\n",
    "outfile.write('Number of animals:  ')\n",
    "outfile.write(format(N_Totl, '>3d'))\n",
    "outfile.write('\\nNumber correct:      ')\n",
    "outfile.write(format(N_Uniq, '>3d'))\n",
    "outfile.write('\\nRepetitions:        ')\n",
    "outfile.write(format(N_Dups, '>3d'))\n",
    "outfile.write('\\nUnknown Animals:    ')\n",
    "outfile.write(format(N_UNKN, '>3d'))\n",
    "outfile.write('\\n\\nMean Log Freq:      ')\n",
    "outfile.write(format(statistics.mean(LogFreq), '10.4f'))\n",
    "outfile.write('  (')\n",
    "outfile.write(format(statistics.stdev(LogFreq), '6.4f'))\n",
    "outfile.write(')')\n",
    "outfile.write('\\nMean Syllables:     ')\n",
    "outfile.write(format(statistics.mean(Syllabs), '10.4f'))\n",
    "outfile.write('  (')\n",
    "outfile.write(format(statistics.stdev(Syllabs), '6.4f'))\n",
    "outfile.write(')')\n",
    "outfile.write('\\nMean Typicality     ')\n",
    "outfile.write(format(statistics.mean(Typical), '10.4f'))\n",
    "outfile.write('  (')\n",
    "outfile.write(format(statistics.stdev(Typical), '6.4f'))\n",
    "outfile.write(')')\n",
    "\n",
    "#ESA analysis\n",
    "outfile.write('\\n\\nSequence Mean ESA:  ')\n",
    "outfile.write(format(MeanESA, '10.4f'))\n",
    "outfile.write('\\nTotal Mean ESA:     ')\n",
    "outfile.write(format(MeanAllESA, '10.4f'))\n",
    "outfile.write('\\nSem Org Index (SOI):')\n",
    "outfile.write(format(SOI, '10.4f'))\n",
    "outfile.write('\\n\\nESA switches:       ')\n",
    "outfile.write(format(sum(ESAsw), '>4d'))\n",
    "outfile.write('  (')\n",
    "outfile.write(format(N_Totl/sumESAsw, '5.2f'))\n",
    "outfile.write(' words/switch)')\n",
    "outfile.write('  (')\n",
    "outfile.write(format(SumCS/NumCS, '5.2f'))\n",
    "outfile.write(' words/cluster)')"
   ]
  },
  {
   "cell_type": "markdown",
   "metadata": {},
   "source": [
    "## ESA William"
   ]
  },
  {
   "cell_type": "code",
   "execution_count": null,
   "metadata": {
    "collapsed": true
   },
   "outputs": [],
   "source": [
    "ESA = []\n",
    "    #\n",
    "    for i in range(len(AnimalIndex)):\n",
    "        if i == 0:\n",
    "            ESA = []\n",
    "            SumESA = 0.0\n",
    "        elif ('UNKNOWN' in VF_Animals[AnimalIndex[i]]) | ('UNKNOWN' in VF_Animals[AnimalIndex[i-1]]):\n",
    "            ESA = ESA + [0.0000000]\n",
    "        else:\n",
    "            OneESA = ESA_2s[AnimalIndex[i]][AnimalIndex[i-1]]\n",
    "            ESA = ESA + [OneESA]\n",
    "            SumESA = SumESA + OneESA\n",
    "\n",
    "    #\n",
    "    MeanESA = SumESA / len(ESA)\n",
    "    #\n",
    "    N_AllESA = 0\n",
    "    SumAllESA = 0.0\n",
    "    #\n",
    "    tmp = 0\n",
    "    for i in range(0, (len(AnimalIndex)-1)):\n",
    "        for j in range(i+1, len(AnimalIndex)):\n",
    "            if (Dups[i] == 1) | (Dups[j] == 1):\n",
    "                tmp = tmp + 1\n",
    "            elif ('UNKNOWN' in VF_Animals[AnimalIndex[i]]) | ('UNKNOWN' in VF_Animals[AnimalIndex[j]]):\n",
    "                N_AllESA = N_AllESA + 1\n",
    "            else:\n",
    "                OneESA = ESA_2s[AnimalIndex[i]][AnimalIndex[j]]\n",
    "                N_AllESA = N_AllESA + 1\n",
    "                SumAllESA = SumAllESA + OneESA\n",
    "\n",
    "    #\n",
    "    if (N_AllESA == 0):\n",
    "        MeanAllESA = 0.0\n",
    "        SOI = 0.0\n",
    "    else:\n",
    "        MeanAllESA = SumAllESA / N_AllESA\n",
    "        if MeanAllESA == 0.0:\n",
    "            SOI = 0.0\n",
    "        else:\n",
    "            SOI = MeanESA / MeanAllESA\n",
    "    #\n",
    "    outfile.write('\\n\\nSequence Mean ESA:  ')\n",
    "    outfile.write(format(MeanESA, '10.4f'))\n",
    "    outfile.write('\\nTotal Mean ESA:     ')\n",
    "    outfile.write(format(MeanAllESA, '10.4f'))\n",
    "    outfile.write('\\nSem Org Index (SOI):')\n",
    "    outfile.write(format(SOI, '10.4f'))\n",
    "    #\n",
    "    ESAsort = []\t\t# Need independent ESA list to sort, for quartiles.\n",
    "    for i in range(len(ESA)):\n",
    "        ESAsort = ESAsort + [ESA[i]]\n",
    "\n",
    "    #\n",
    "    ESAsort.sort()\n",
    "    ESA_Threshold = PercentRESA * MeanAllESA  # ESA switch if ESA < ESA_Threshold\n",
    "    if ESA_Threshold < ESAsort[0]:\n",
    "        ESA_Threshold = ESAsort[0] + 0.000001\n",
    "    #\n",
    "    ESAsw = []  # Initialize ESA switch array.\n",
    "    ESAcs = []  # Initialize ESA cluster array.\n",
    "    for i in range(len(AnimalIndex)-1):\n",
    "        ESAcs = ESAcs + [' ']\n",
    "        if ESA[i] < ESA_Threshold:\n",
    "            ESAsw = ESAsw + [1]\n",
    "        else:\n",
    "            ESAsw = ESAsw + [0]\n",
    "\n",
    "    # There is one ESAcs for each word, but one less ESAsw\n",
    "    ESAcs = ESAcs + [' ']\n",
    "    iiESAsw = len(ESAsw) - 1\n",
    "    ii = 1\n",
    "    #  SumCS and NumCS to compute mean multi-word cluster size.\n",
    "    SumCS = 0.0\n",
    "    NumCS = 0.0\n",
    "    for i in range(iiESAsw, -1, -1):\n",
    "        if (ESAsw[i] == 0):\n",
    "            ii = ii + 1\n",
    "        else:\n",
    "            #\t\tprint (i, ii)\n",
    "            ESAcs[i+1] = str(ii)\n",
    "            if (ii > 1):\n",
    "                SumCS = SumCS + ii\n",
    "                NumCS = NumCS + 1\n",
    "            ii = 1\n",
    "    ESAcs[0] = str(ii)\n",
    "    if (ii > 1):\n",
    "        SumCS = SumCS + ii\n",
    "        NumCS = NumCS + 1\n",
    "    #\n",
    "    if NumCS == 0:\n",
    "        NumCS = 1\n",
    "    sumESAsw = sum(ESAsw)\n",
    "    if sumESAsw == 0:\n",
    "        sumESAsw = 1\n",
    "    outfile.write('\\n\\nESA switches:       ')\n",
    "    outfile.write(format(sum(ESAsw), '>4d'))\n",
    "    outfile.write('  (')\n",
    "    outfile.write(format(N_Totl/sumESAsw, '5.2f'))\n",
    "    outfile.write(' words/switch)')\n",
    "    outfile.write('  (')\n",
    "    outfile.write(format(SumCS/NumCS, '5.2f'))\n",
    "    outfile.write(' words/cluster)')"
   ]
  }
 ],
 "metadata": {
  "kernelspec": {
   "display_name": "Python [conda env:old]",
   "language": "python",
   "name": "conda-env-old-py"
  },
  "language_info": {
   "codemirror_mode": {
    "name": "ipython",
    "version": 2
   },
   "file_extension": ".py",
   "mimetype": "text/x-python",
   "name": "python",
   "nbconvert_exporter": "python",
   "pygments_lexer": "ipython2",
   "version": "2.7.13"
  }
 },
 "nbformat": 4,
 "nbformat_minor": 2
}

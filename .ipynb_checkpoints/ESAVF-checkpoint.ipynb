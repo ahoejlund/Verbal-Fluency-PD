{
 "cells": [
  {
   "cell_type": "markdown",
   "metadata": {},
   "source": [
    "# ESA with Verbal Fluency "
   ]
  },
  {
   "cell_type": "markdown",
   "metadata": {},
   "source": [
    "## ESA FINN"
   ]
  },
  {
   "cell_type": "code",
   "execution_count": 191,
   "metadata": {
    "collapsed": true
   },
   "outputs": [],
   "source": [
    "#Define misc variables\n",
    "ID = \"0001\"\n",
    "textfile = \"/Users/au183362/Documents/postdoc/Parkinson-DBS/Eira_Aksnes/raw/test2.txt\"\n",
    "iterations = 30000 # input to Semantic-module\n",
    "\n",
    "#From Yund et al.:\n",
    "#ESA switch threshold is \"PercentRESA * MeanAllESA\" or the (Minimum sequence ESA)+0.00001 \n",
    "#so that there is at least one ESA switch.\n",
    "PercentRESA = 0.75\n"
   ]
  },
  {
   "cell_type": "code",
   "execution_count": 200,
   "metadata": {
    "collapsed": true,
    "scrolled": true
   },
   "outputs": [],
   "source": [
    "from dasem.semantic import Semantic\n",
    "import numpy as np\n",
    "from io import open\n",
    "import collections\n",
    "from itertools import compress, groupby"
   ]
  },
  {
   "cell_type": "markdown",
   "metadata": {},
   "source": [
    "### Example from DASEM, semantic relatedness"
   ]
  },
  {
   "cell_type": "markdown",
   "metadata": {},
   "source": [
    "#Example:\n",
    "\n",
    "  >>> semantic = Semantic(30000)  # and wait\n",
    "    >>> semantic.relatedness(['hund', 'kat', 'mus', 'fisk']).round(3)\n",
    "    array([[ 1.   ,  0.022,  0.005,  0.001],\n",
    "           [ 0.022,  1.   ,  0.002,  0.   ],\n",
    "           [ 0.005,  0.002,  1.   ,  0.01 ],\n",
    "           [ 0.001,  0.   ,  0.01 ,  1.   ]])"
   ]
  },
  {
   "cell_type": "code",
   "execution_count": 3,
   "metadata": {},
   "outputs": [
    {
     "name": "stdout",
     "output_type": "stream",
     "text": [
      "2019-09-22 22:04:23,957 - __main__ - INFO - Downloading https://dumps.wikimedia.org/dawiki/latest/dawiki-latest-pages-articles.xml.bz2 to /Users/au183362/dasem_data/wikipedia/dawiki-latest-pages-articles.xml.bz2\r\n"
     ]
    }
   ],
   "source": [
    "!python -m dasem.wikipedia download --verbose"
   ]
  },
  {
   "cell_type": "code",
   "execution_count": 3,
   "metadata": {},
   "outputs": [
    {
     "name": "stdout",
     "output_type": "stream",
     "text": [
      "655.832528114\n"
     ]
    }
   ],
   "source": [
    "import time\n",
    "t = time.time()\n",
    "\n",
    "#On Eira's macbook:\n",
    "#Both Semantic(300) and Semantic(30) = 600-700 sec ≈ 10-12 min\n",
    "#On AH's macbook: Semantic(30000) = 500-535 sec ≈ 8-9 min\n",
    "semantic = Semantic(iterations)\n",
    "\n",
    "elapsed = time.time()-t\n",
    "print(elapsed)\n"
   ]
  },
  {
   "cell_type": "code",
   "execution_count": 5,
   "metadata": {},
   "outputs": [
    {
     "name": "stdout",
     "output_type": "stream",
     "text": [
      "/Users/eiraaksnes/Documents/CFIN/Raw_Data\n"
     ]
    }
   ],
   "source": [
    "#cd /Users/eiraaksnes/Documents/CFIN/Raw_Data"
   ]
  },
  {
   "cell_type": "code",
   "execution_count": 131,
   "metadata": {},
   "outputs": [
    {
     "name": "stdout",
     "output_type": "stream",
     "text": [
      "0: Mus\n",
      "1: Ko\n",
      "2: Hest\n",
      "3: Gris\n",
      "4: Elefant\n",
      "5: Kat\n",
      "6: Pindsvin\n",
      "7: Krage\n",
      "8: Måge\n",
      "9: Fugl\n",
      "10: Mosegris\n",
      "11: Ørentvist\n",
      "12: Flue\n",
      "13: Elefant\n",
      "14: Næsehorn\n",
      "15: Løve\n",
      "16: Tiger\n",
      "17: Bjørn\n",
      "18: Æsel\n",
      "19: Hest\n",
      "20: Krokodille\n",
      "21: Næsehorn\n",
      "22: Løve\n",
      "23: Kat\n",
      "24: Rotte\n"
     ]
    }
   ],
   "source": [
    "inputs = [line.rstrip() for line in open(textfile)]\n",
    "for i, inp in enumerate(inputs):\n",
    "    print(u\"{0:d}: {1:s}\".format(i, inp))"
   ]
  },
  {
   "cell_type": "code",
   "execution_count": null,
   "metadata": {
    "collapsed": true
   },
   "outputs": [],
   "source": [
    "#Clean inputs for duplicates (and unknowns? - can't do that until we've run semantic.relatedness...)\n",
    "#need to figure out what semantic.relatedness does to \"unknown\" concepts/words"
   ]
  },
  {
   "cell_type": "code",
   "execution_count": 147,
   "metadata": {},
   "outputs": [
    {
     "name": "stdout",
     "output_type": "stream",
     "text": [
      "Mus  Ko  Hest  Gris  Elefant  Kat  Pindsvin  Krage  Måge  Fugl  Mosegris  Ørentvist\n",
      "[[1.    0.005 0.002 0.003 0.003 0.01  0.007 0.004 0.001 0.01  0.004 0.   ]\n",
      " [0.005 1.    0.003 0.006 0.005 0.004 0.    0.001 0.    0.001 0.    0.   ]\n",
      " [0.002 0.003 1.    0.003 0.011 0.003 0.    0.    0.    0.004 0.    0.   ]\n",
      " [0.003 0.006 0.003 1.    0.002 0.003 0.003 0.009 0.    0.005 0.    0.   ]\n",
      " [0.003 0.005 0.011 0.002 1.    0.003 0.001 0.001 0.    0.002 0.    0.   ]\n",
      " [0.01  0.004 0.003 0.003 0.003 1.    0.001 0.001 0.    0.004 0.001 0.   ]\n",
      " [0.007 0.    0.    0.003 0.001 0.001 1.    0.007 0.001 0.002 0.001 0.   ]\n",
      " [0.004 0.001 0.    0.009 0.001 0.001 0.007 1.    0.002 0.015 0.001 0.   ]\n",
      " [0.001 0.    0.    0.    0.    0.    0.001 0.002 1.    0.033 0.    0.   ]\n",
      " [0.01  0.001 0.004 0.005 0.002 0.004 0.002 0.015 0.033 1.    0.001 0.   ]\n",
      " [0.004 0.    0.    0.    0.    0.001 0.001 0.001 0.    0.001 1.    0.   ]\n",
      " [0.    0.    0.    0.    0.    0.    0.    0.    0.    0.    0.    1.   ]\n",
      " [0.01  0.002 0.001 0.    0.001 0.001 0.    0.003 0.    0.002 0.    0.003]\n",
      " [0.003 0.005 0.011 0.002 1.    0.003 0.001 0.001 0.    0.002 0.    0.   ]\n",
      " [0.001 0.001 0.004 0.    0.019 0.001 0.001 0.001 0.    0.002 0.    0.   ]\n",
      " [0.001 0.    0.007 0.001 0.008 0.002 0.    0.    0.    0.003 0.    0.   ]\n",
      " [0.    0.001 0.004 0.002 0.007 0.002 0.    0.    0.    0.001 0.    0.001]\n",
      " [0.006 0.001 0.004 0.001 0.001 0.002 0.    0.001 0.001 0.002 0.    0.   ]\n",
      " [0.004 0.002 0.038 0.001 0.017 0.002 0.    0.    0.    0.001 0.    0.   ]\n",
      " [0.002 0.003 1.    0.003 0.011 0.003 0.    0.    0.    0.004 0.    0.   ]\n",
      " [0.001 0.    0.    0.    0.004 0.    0.003 0.    0.    0.005 0.    0.   ]\n",
      " [0.001 0.001 0.004 0.    0.019 0.001 0.001 0.001 0.    0.002 0.    0.   ]\n",
      " [0.001 0.    0.007 0.001 0.008 0.002 0.    0.    0.    0.003 0.    0.   ]\n",
      " [0.01  0.004 0.003 0.003 0.003 1.    0.001 0.001 0.    0.004 0.001 0.   ]\n",
      " [0.025 0.001 0.002 0.005 0.002 0.004 0.001 0.014 0.002 0.005 0.015 0.003]]\n",
      "\n",
      "\n",
      "Elefant  Næsehorn  Løve  Tiger  Bjørn  Æsel  Hest  Krokodille  Næsehorn  Løve  Kat  Rotte\n",
      "[[0.003 0.001 0.001 0.    0.006 0.004 0.002 0.001 0.001 0.001 0.01  0.025]\n",
      " [0.005 0.001 0.    0.001 0.001 0.002 0.003 0.    0.001 0.    0.004 0.001]\n",
      " [0.011 0.004 0.007 0.004 0.004 0.038 1.    0.    0.004 0.007 0.003 0.002]\n",
      " [0.002 0.    0.001 0.002 0.001 0.001 0.003 0.    0.    0.001 0.003 0.005]\n",
      " [1.    0.019 0.008 0.007 0.001 0.017 0.011 0.004 0.019 0.008 0.003 0.002]\n",
      " [0.003 0.001 0.002 0.002 0.002 0.002 0.003 0.    0.001 0.002 1.    0.004]\n",
      " [0.001 0.001 0.    0.    0.    0.    0.    0.003 0.001 0.    0.001 0.001]\n",
      " [0.001 0.001 0.    0.    0.001 0.    0.    0.    0.001 0.    0.001 0.014]\n",
      " [0.    0.    0.    0.    0.001 0.    0.    0.    0.    0.    0.    0.002]\n",
      " [0.002 0.002 0.003 0.001 0.002 0.001 0.004 0.005 0.002 0.003 0.004 0.005]\n",
      " [0.    0.    0.    0.    0.    0.    0.    0.    0.    0.    0.001 0.015]\n",
      " [0.    0.    0.    0.001 0.    0.    0.    0.    0.    0.    0.    0.003]\n",
      " [0.001 0.002 0.    0.001 0.002 0.    0.001 0.    0.002 0.    0.001 0.   ]\n",
      " [1.    0.019 0.008 0.007 0.001 0.017 0.011 0.004 0.019 0.008 0.003 0.002]\n",
      " [0.019 1.    0.004 0.002 0.    0.    0.004 0.002 1.    0.004 0.001 0.   ]\n",
      " [0.008 0.004 1.    0.014 0.003 0.007 0.007 0.003 0.004 1.    0.002 0.001]\n",
      " [0.007 0.002 0.014 1.    0.001 0.006 0.004 0.001 0.002 0.014 0.002 0.003]\n",
      " [0.001 0.    0.003 0.001 1.    0.002 0.004 0.    0.    0.003 0.002 0.   ]\n",
      " [0.017 0.    0.007 0.006 0.002 1.    0.038 0.    0.    0.007 0.002 0.   ]\n",
      " [0.011 0.004 0.007 0.004 0.004 0.038 1.    0.    0.004 0.007 0.003 0.002]\n",
      " [0.004 0.002 0.003 0.001 0.    0.    0.    1.    0.002 0.003 0.    0.003]\n",
      " [0.019 1.    0.004 0.002 0.    0.    0.004 0.002 1.    0.004 0.001 0.   ]\n",
      " [0.008 0.004 1.    0.014 0.003 0.007 0.007 0.003 0.004 1.    0.002 0.001]\n",
      " [0.003 0.001 0.002 0.002 0.002 0.002 0.003 0.    0.001 0.002 1.    0.004]\n",
      " [0.002 0.    0.001 0.003 0.    0.    0.002 0.003 0.    0.001 0.004 1.   ]]\n"
     ]
    }
   ],
   "source": [
    "ESA_table = semantic.relatedness(inputs).round(3)\n",
    "#print(raw_ESA_table[:,0])\n",
    "print(\"  \".join(map(unicode,inputs[:12])))\n",
    "print(ESA_table[:,:12])\n",
    "print(\"\\n\")\n",
    "print(\"  \".join(map(unicode,inputs[13:])))\n",
    "print(ESA_table[:,13:])\n"
   ]
  },
  {
   "cell_type": "code",
   "execution_count": 185,
   "metadata": {},
   "outputs": [
    {
     "name": "stdout",
     "output_type": "stream",
     "text": [
      "Mus-Ko = 0.005\n",
      "Ko-Hest = 0.003\n",
      "Hest-Gris = 0.003\n",
      "Gris-Elefant = 0.002\n",
      "Elefant-Kat = 0.003\n",
      "Kat-Pindsvin = 0.001\n",
      "Pindsvin-Krage = 0.007\n",
      "Krage-Måge = 0.002\n",
      "Måge-Fugl = 0.033\n",
      "Fugl-Mosegris = 0.001\n",
      "Mosegris-Ørentvist = 0.000\n",
      "Ørentvist-Flue = 0.003\n",
      "Flue-Elefant = 0.001\n",
      "Elefant-Næsehorn = 0.019\n",
      "Næsehorn-Løve = 0.004\n",
      "Løve-Tiger = 0.014\n",
      "Tiger-Bjørn = 0.001\n",
      "Bjørn-Æsel = 0.002\n",
      "Æsel-Hest = 0.038\n",
      "Hest-Krokodille = 0.000\n",
      "Krokodille-Næsehorn = 0.002\n",
      "Næsehorn-Løve = 0.004\n",
      "Løve-Kat = 0.002\n",
      "Kat-Rotte = 0.004\n",
      "\n",
      "Mean (chronological pairwise) ESA for Participant ID 0001: 0.006\n"
     ]
    }
   ],
   "source": [
    "#Extract ESA values for continuous (i.e., chronological) pairs\n",
    "ESA = []\n",
    "DictESA = {}\n",
    "SumESA = 0.0\n",
    "\n",
    "for n, i in enumerate(inputs):     \n",
    "    if n > 0:\n",
    "        print(u\"{0:s}-{1:s} = {2:2.3f}\".format(inputs[n-1], i, ESA_table[n, n-1]))\n",
    "        OneESA = ESA_table[n, n-1]\n",
    "        DictESA[u\"{0:s}-{1:s}\".format(inputs[n-1], i)] = OneESA \n",
    "        ESA = ESA + [OneESA]\n",
    "        #ESA.append(OneESA)\n",
    "        SumESA = SumESA + OneESA\n",
    "\n",
    "MeanESA = SumESA / len(ESA)\n",
    "\n",
    "print(\"\\nMean (chronological pairwise) ESA for Participant ID {0:s}: {1:2.3f}\".format(ID, MeanESA.round(3)))"
   ]
  },
  {
   "cell_type": "code",
   "execution_count": 162,
   "metadata": {},
   "outputs": [
    {
     "name": "stdout",
     "output_type": "stream",
     "text": [
      "\n",
      "Mean All ESA for Participant ID 0001: 0.020\n",
      "\n",
      "SOI Participant ID 0001: 0.327\n"
     ]
    }
   ],
   "source": [
    "#Extract ESA values for all possible pairs\n",
    "DictAllESA = {}\n",
    "N_AllESA = 0\n",
    "SumAllESA = 0.0\n",
    "\n",
    "for i in range(len(inputs)-1):\n",
    "    for j in range(i+1, len(inputs)):\n",
    "            OneESA = ESA_table[i,j]\n",
    "            DictAllESA[u\"{0:s}-{1:s}\".format(inputs[i], inputs[j])] = OneESA\n",
    "            N_AllESA = N_AllESA + 1\n",
    "            SumAllESA = SumAllESA + OneESA\n",
    "        \n",
    "if (N_AllESA == 0):\n",
    "    MeanAllESA = 0.0\n",
    "    SOI = 0.0\n",
    "else:\n",
    "    MeanAllESA = SumAllESA / N_AllESA\n",
    "    if MeanAllESA == 0.0:\n",
    "        SOI = 0.0\n",
    "    else:\n",
    "        SOI = MeanESA / MeanAllESA\n",
    "\n",
    "#print(inputs)\n",
    "#print(ESA_table)\n",
    "#print(DictAllESA)\n",
    "print(\"\\nMean All ESA for Participant ID {0:s}: {1:2.3f}\".format(ID, MeanAllESA.round(3)))\n",
    "print(\"\\nSOI Participant ID {0:s}: {1:2.3f}\".format(ID, SOI.round(3)))\n"
   ]
  },
  {
   "cell_type": "markdown",
   "metadata": {},
   "source": [
    "## Clusters and switches"
   ]
  },
  {
   "cell_type": "code",
   "execution_count": 192,
   "metadata": {},
   "outputs": [
    {
     "name": "stdout",
     "output_type": "stream",
     "text": [
      "0.014719999999999974\n"
     ]
    }
   ],
   "source": [
    "# Setting the ESA_Threshold\n",
    "ESAsort = sorted(ESA) # creating a sorted copy of ESA\n",
    "ESA_Threshold = PercentRESA * MeanAllESA  # ESA switch if ESA < ESA_Threshold\n",
    "if ESA_Threshold < ESAsort[0]:\n",
    "    ESA_Threshold = ESAsort[0] + 0.000001\n",
    "print(ESA_Threshold)"
   ]
  },
  {
   "cell_type": "code",
   "execution_count": 243,
   "metadata": {},
   "outputs": [
    {
     "name": "stdout",
     "output_type": "stream",
     "text": [
      "Number of switches: 21\n",
      "Number of clusters: 3\n",
      "\n",
      "[1, 1, 1, 1, 1, 1, 1, 1, 0, 1, 1, 1, 1, 0, 1, 1, 1, 1, 0, 1, 1, 1, 1, 1]\n"
     ]
    },
    {
     "data": {
      "text/plain": [
       "[u'1: Mus',\n",
       " u'1: Ko',\n",
       " u'1: Hest',\n",
       " u'1: Gris',\n",
       " u'1: Elefant',\n",
       " u'1: Kat',\n",
       " u'1: Pindsvin',\n",
       " u'1: Krage',\n",
       " u'0: M\\xe5ge',\n",
       " u'1: Fugl',\n",
       " u'1: Mosegris',\n",
       " u'1: \\xd8rentvist',\n",
       " u'1: Flue',\n",
       " u'0: Elefant',\n",
       " u'1: N\\xe6sehorn',\n",
       " u'1: L\\xf8ve',\n",
       " u'1: Tiger',\n",
       " u'1: Bj\\xf8rn',\n",
       " u'0: \\xc6sel',\n",
       " u'1: Hest',\n",
       " u'1: Krokodille',\n",
       " u'1: N\\xe6sehorn',\n",
       " u'1: L\\xf8ve',\n",
       " u'1: Kat']"
      ]
     },
     "execution_count": 243,
     "metadata": {},
     "output_type": "execute_result"
    }
   ],
   "source": [
    "#ESA switches\n",
    "ESAsw = [int(esa<ESA_Threshold) for esa in ESA]\n",
    "\n",
    "ESAswCount = collections.Counter(ESAsw).most_common() # counting the ones and the zeros of the switch-vector\n",
    "\n",
    "if 1 in ESAswCount[0]:\n",
    "    sumESAsw = ESAswCount[0][1] # assigning the count of ones to sumESAsw (2nd element of 1st tuple)\n",
    "    NumCs = ESAswCount[1][1] # assigning the count of zeros to sumESAsw (2nd element of 2nd tuple)\n",
    "elif 0 in ESAswCount[0]:\n",
    "    sumESAsw = ESAswCount[1][1] # assigning the count of ones to sumESAsw (2nd element of 2nd tuple)\n",
    "    NumCs = ESAswCount[0][1] # assigning the count of zeros to sumESAsw (2nd element of 1st tuple)\n",
    "\n",
    "print(\"Number of switches: {0:d}\\nNumber of clusters: {1:d}\\n\".format(sumESAsw, NumCs))\n",
    "#print(\"  \".join(map(unicode,inputs)))\n",
    "print(ESAsw)\n",
    "[u\"{0:d}: {1:s}\".format(sw, i) for sw, i in zip(ESAsw, inputs)]"
   ]
  },
  {
   "cell_type": "code",
   "execution_count": 231,
   "metadata": {
    "collapsed": true
   },
   "outputs": [],
   "source": [
    "?enumerate"
   ]
  },
  {
   "cell_type": "code",
   "execution_count": 250,
   "metadata": {},
   "outputs": [
    {
     "data": {
      "text/plain": [
       "[2, 2, 2]"
      ]
     },
     "execution_count": 250,
     "metadata": {},
     "output_type": "execute_result"
    }
   ],
   "source": [
    "[sum(1 for _ in g)+1 for _, g in groupby(ESAsw) if _==0] # we add one to each cluster-sum for 1st word in the cluster"
   ]
  },
  {
   "cell_type": "code",
   "execution_count": 198,
   "metadata": {},
   "outputs": [
    {
     "name": "stdout",
     "output_type": "stream",
     "text": [
      "[1, 1, 1, 1, 1, 1, 1, 1, 0, 1, 1, 1, 1, 0, 1, 1, 1, 1, 0, 1, 1, 1, 1, 1]\n",
      "[' ', ' ', ' ', ' ', ' ', ' ', ' ', ' ', ' ', ' ', ' ', ' ', ' ', ' ', ' ', ' ', ' ', ' ', ' ', ' ', ' ', ' ', ' ', ' ']\n"
     ]
    }
   ],
   "source": [
    "### TEMP YUND code\n",
    "ESAswY = []  # Initialize ESA switch array.\n",
    "ESAcsY = []  # Initialize ESA cluster array.\n",
    "for i in range(len(inputs)-1):\n",
    "    ESAcsY = ESAcsY + [' ']\n",
    "    if ESA[i] < ESA_Threshold:\n",
    "        ESAswY = ESAswY + [1]\n",
    "    else:\n",
    "        ESAswY = ESAswY + [0]\n",
    "print(ESAswY)\n",
    "print(ESAcsY)"
   ]
  },
  {
   "cell_type": "code",
   "execution_count": 190,
   "metadata": {},
   "outputs": [
    {
     "data": {
      "text/plain": [
       "23"
      ]
     },
     "execution_count": 190,
     "metadata": {},
     "output_type": "execute_result"
    }
   ],
   "source": [
    "len(ESAsw)-1"
   ]
  },
  {
   "cell_type": "code",
   "execution_count": 199,
   "metadata": {},
   "outputs": [
    {
     "name": "stdout",
     "output_type": "stream",
     "text": [
      "23\n",
      "[' ', ' ', ' ', ' ', ' ', ' ', ' ', ' ', ' ', ' ', ' ', ' ', ' ', ' ', ' ', ' ', ' ', ' ', ' ', ' ', ' ', ' ', ' ', ' ', ' ']\n",
      "6.0\n",
      "3.0\n",
      "['1', '1', '1', '1', '1', '1', '1', '1', '2', ' ', '1', '1', '1', '2', ' ', '1', '1', '1', '2', ' ', '1', '1', '1', '1', '1']\n",
      "21\n"
     ]
    }
   ],
   "source": [
    "### TEMP YUND code\n",
    "# There is one ESAcs for each word, but one less ESAsw\n",
    "ESAcsY = ESAcsY + [' ']\n",
    "iiESAsw = len(ESAswY) - 1\n",
    "\n",
    "print(iiESAsw)\n",
    "print(ESAcsY)\n",
    "\n",
    "ii = 1\n",
    "#  SumCS and NumCS to compute mean multi-word cluster size.\n",
    "SumCS = 0.0\n",
    "NumCS = 0.0\n",
    "for i in range(iiESAsw, -1, -1):\n",
    "    if (ESAswY[i] == 0):\n",
    "        ii = ii + 1\n",
    "    else:\n",
    "        #\t\tprint (i, ii)\n",
    "        ESAcsY[i+1] = str(ii)\n",
    "        if (ii > 1):\n",
    "            SumCS = SumCS + ii\n",
    "            NumCS = NumCS + 1\n",
    "        ii = 1\n",
    "ESAcsY[0] = str(ii)\n",
    "if (ii > 1):\n",
    "    SumCS = SumCS + ii\n",
    "    NumCS = NumCS + 1\n",
    "#\n",
    "if NumCS == 0:\n",
    "    NumCS = 1\n",
    "sumESAsw = sum(ESAswY)\n",
    "if sumESAsw == 0:\n",
    "    sumESAsw = 1\n",
    "        \n",
    "print(SumCS)\n",
    "print(NumCS)\n",
    "print(ESAcsY)\n",
    "print(sumESAsw)"
   ]
  },
  {
   "cell_type": "code",
   "execution_count": 68,
   "metadata": {},
   "outputs": [
    {
     "ename": "NameError",
     "evalue": "name 'NumCs' is not defined",
     "output_type": "error",
     "traceback": [
      "\u001b[0;31m---------------------------------------------------------------------------\u001b[0m",
      "\u001b[0;31mNameError\u001b[0m                                 Traceback (most recent call last)",
      "\u001b[0;32m<ipython-input-68-f3a365d2fbc3>\u001b[0m in \u001b[0;36m<module>\u001b[0;34m()\u001b[0m\n\u001b[1;32m     38\u001b[0m     \u001b[0msumESAsw\u001b[0m \u001b[0;34m=\u001b[0m \u001b[0;36m1\u001b[0m\u001b[0;34m\u001b[0m\u001b[0m\n\u001b[1;32m     39\u001b[0m \u001b[0;34m\u001b[0m\u001b[0m\n\u001b[0;32m---> 40\u001b[0;31m \u001b[0mNumCs\u001b[0m\u001b[0;34m\u001b[0m\u001b[0m\n\u001b[0m\u001b[1;32m     41\u001b[0m \u001b[0;31m#print(NumCs)\u001b[0m\u001b[0;34m\u001b[0m\u001b[0;34m\u001b[0m\u001b[0m\n",
      "\u001b[0;31mNameError\u001b[0m: name 'NumCs' is not defined"
     ]
    }
   ],
   "source": [
    "##### Yund-code\n",
    "#ESAswitch \n",
    "ESAsw = []  # Initialize ESA switch array.\n",
    "ESAcs = []  # Initialize ESA cluster array.\n",
    "for i in range(len(inputs)-1):\n",
    "    ESAcs = ESAcs + [' ']\n",
    "    if ESA[i] < ESA_Threshold:\n",
    "        ESAsw = ESAsw + [1]\n",
    "    else:\n",
    "        ESAsw = ESAsw + [0]\n",
    "        \n",
    "# There is one ESAcs for each word, but one less ESAsw\n",
    "ESAcs = ESAcs + [' ']\n",
    "iiESAsw = len(ESAsw) - 1\n",
    "ii = 1\n",
    "#  SumCS and NumCS to compute mean multi-word cluster size.\n",
    "SumCS = 0.0\n",
    "NumCS = 0.0\n",
    "for i in range(iiESAsw, -1, -1):\n",
    "    if (ESAsw[i] == 0):\n",
    "        ii = ii + 1\n",
    "    else:\n",
    "        #\t\tprint (i, ii)\n",
    "        ESAcs[i+1] = str(ii)\n",
    "        if (ii > 1):\n",
    "            SumCS = SumCS + ii\n",
    "            NumCS = NumCS + 1\n",
    "        ii = 1\n",
    "ESAcs[0] = str(ii)\n",
    "if (ii > 1):\n",
    "    SumCS = SumCS + ii\n",
    "    NumCS = NumCS + 1\n",
    "#\n",
    "if NumCS == 0:\n",
    "    NumCS = 1\n",
    "sumESAsw = sum(ESAsw)\n",
    "if sumESAsw == 0:\n",
    "    sumESAsw = 1\n",
    "    \n",
    "#print(NumCs)"
   ]
  },
  {
   "cell_type": "markdown",
   "metadata": {},
   "source": [
    "## Create/save output file"
   ]
  },
  {
   "cell_type": "code",
   "execution_count": null,
   "metadata": {
    "collapsed": true
   },
   "outputs": [],
   "source": [
    "#Create output file for each subject (.txt)\n",
    "#NB! not all entries in the below code are relevant for our current analysis\n",
    "\n",
    "#create/open file for writing output\n",
    "outfile = open('output_' + ID +'_Out.txt', 'w')\n",
    "\n",
    "#summary values\n",
    "outfile.write('Number of animals:  ')\n",
    "outfile.write(format(N_Totl, '>3d'))\n",
    "outfile.write('\\nNumber correct:      ')\n",
    "outfile.write(format(N_Uniq, '>3d'))\n",
    "outfile.write('\\nRepetitions:        ')\n",
    "outfile.write(format(N_Dups, '>3d'))\n",
    "outfile.write('\\nUnknown Animals:    ')\n",
    "outfile.write(format(N_UNKN, '>3d'))\n",
    "outfile.write('\\n\\nMean Log Freq:      ')\n",
    "outfile.write(format(statistics.mean(LogFreq), '10.4f'))\n",
    "outfile.write('  (')\n",
    "outfile.write(format(statistics.stdev(LogFreq), '6.4f'))\n",
    "outfile.write(')')\n",
    "outfile.write('\\nMean Syllables:     ')\n",
    "outfile.write(format(statistics.mean(Syllabs), '10.4f'))\n",
    "outfile.write('  (')\n",
    "outfile.write(format(statistics.stdev(Syllabs), '6.4f'))\n",
    "outfile.write(')')\n",
    "outfile.write('\\nMean Typicality     ')\n",
    "outfile.write(format(statistics.mean(Typical), '10.4f'))\n",
    "outfile.write('  (')\n",
    "outfile.write(format(statistics.stdev(Typical), '6.4f'))\n",
    "outfile.write(')')\n",
    "\n",
    "#ESA analysis\n",
    "outfile.write('\\n\\nSequence Mean ESA:  ')\n",
    "outfile.write(format(MeanESA, '10.4f'))\n",
    "outfile.write('\\nTotal Mean ESA:     ')\n",
    "outfile.write(format(MeanAllESA, '10.4f'))\n",
    "outfile.write('\\nSem Org Index (SOI):')\n",
    "outfile.write(format(SOI, '10.4f'))\n",
    "outfile.write('\\n\\nESA switches:       ')\n",
    "outfile.write(format(sum(ESAsw), '>4d'))\n",
    "outfile.write('  (')\n",
    "outfile.write(format(N_Totl/sumESAsw, '5.2f'))\n",
    "outfile.write(' words/switch)')\n",
    "outfile.write('  (')\n",
    "outfile.write(format(SumCS/NumCS, '5.2f'))\n",
    "outfile.write(' words/cluster)')"
   ]
  },
  {
   "cell_type": "markdown",
   "metadata": {},
   "source": [
    "## ESA William"
   ]
  },
  {
   "cell_type": "code",
   "execution_count": null,
   "metadata": {
    "collapsed": true
   },
   "outputs": [],
   "source": [
    "ESA = []\n",
    "    #\n",
    "    for i in range(len(AnimalIndex)):\n",
    "        if i == 0:\n",
    "            ESA = []\n",
    "            SumESA = 0.0\n",
    "        elif ('UNKNOWN' in VF_Animals[AnimalIndex[i]]) | ('UNKNOWN' in VF_Animals[AnimalIndex[i-1]]):\n",
    "            ESA = ESA + [0.0000000]\n",
    "        else:\n",
    "            OneESA = ESA_2s[AnimalIndex[i]][AnimalIndex[i-1]]\n",
    "            ESA = ESA + [OneESA]\n",
    "            SumESA = SumESA + OneESA\n",
    "\n",
    "    #\n",
    "    MeanESA = SumESA / len(ESA)\n",
    "    #\n",
    "    N_AllESA = 0\n",
    "    SumAllESA = 0.0\n",
    "    #\n",
    "    tmp = 0\n",
    "    for i in range(0, (len(AnimalIndex)-1)):\n",
    "        for j in range(i+1, len(AnimalIndex)):\n",
    "            if (Dups[i] == 1) | (Dups[j] == 1):\n",
    "                tmp = tmp + 1\n",
    "            elif ('UNKNOWN' in VF_Animals[AnimalIndex[i]]) | ('UNKNOWN' in VF_Animals[AnimalIndex[j]]):\n",
    "                N_AllESA = N_AllESA + 1\n",
    "            else:\n",
    "                OneESA = ESA_2s[AnimalIndex[i]][AnimalIndex[j]]\n",
    "                N_AllESA = N_AllESA + 1\n",
    "                SumAllESA = SumAllESA + OneESA\n",
    "\n",
    "    #\n",
    "    if (N_AllESA == 0):\n",
    "        MeanAllESA = 0.0\n",
    "        SOI = 0.0\n",
    "    else:\n",
    "        MeanAllESA = SumAllESA / N_AllESA\n",
    "        if MeanAllESA == 0.0:\n",
    "            SOI = 0.0\n",
    "        else:\n",
    "            SOI = MeanESA / MeanAllESA\n",
    "    #\n",
    "    outfile.write('\\n\\nSequence Mean ESA:  ')\n",
    "    outfile.write(format(MeanESA, '10.4f'))\n",
    "    outfile.write('\\nTotal Mean ESA:     ')\n",
    "    outfile.write(format(MeanAllESA, '10.4f'))\n",
    "    outfile.write('\\nSem Org Index (SOI):')\n",
    "    outfile.write(format(SOI, '10.4f'))\n",
    "    #\n",
    "    ESAsort = []\t\t# Need independent ESA list to sort, for quartiles.\n",
    "    for i in range(len(ESA)):\n",
    "        ESAsort = ESAsort + [ESA[i]]\n",
    "\n",
    "    #\n",
    "    ESAsort.sort()\n",
    "    ESA_Threshold = PercentRESA * MeanAllESA  # ESA switch if ESA < ESA_Threshold\n",
    "    if ESA_Threshold < ESAsort[0]:\n",
    "        ESA_Threshold = ESAsort[0] + 0.000001\n",
    "    #\n",
    "    ESAsw = []  # Initialize ESA switch array.\n",
    "    ESAcs = []  # Initialize ESA cluster array.\n",
    "    for i in range(len(AnimalIndex)-1):\n",
    "        ESAcs = ESAcs + [' ']\n",
    "        if ESA[i] < ESA_Threshold:\n",
    "            ESAsw = ESAsw + [1]\n",
    "        else:\n",
    "            ESAsw = ESAsw + [0]\n",
    "\n",
    "    # There is one ESAcs for each word, but one less ESAsw\n",
    "    ESAcs = ESAcs + [' ']\n",
    "    iiESAsw = len(ESAsw) - 1\n",
    "    ii = 1\n",
    "    #  SumCS and NumCS to compute mean multi-word cluster size.\n",
    "    SumCS = 0.0\n",
    "    NumCS = 0.0\n",
    "    for i in range(iiESAsw, -1, -1):\n",
    "        if (ESAsw[i] == 0):\n",
    "            ii = ii + 1\n",
    "        else:\n",
    "            #\t\tprint (i, ii)\n",
    "            ESAcs[i+1] = str(ii)\n",
    "            if (ii > 1):\n",
    "                SumCS = SumCS + ii\n",
    "                NumCS = NumCS + 1\n",
    "            ii = 1\n",
    "    ESAcs[0] = str(ii)\n",
    "    if (ii > 1):\n",
    "        SumCS = SumCS + ii\n",
    "        NumCS = NumCS + 1\n",
    "    #\n",
    "    if NumCS == 0:\n",
    "        NumCS = 1\n",
    "    sumESAsw = sum(ESAsw)\n",
    "    if sumESAsw == 0:\n",
    "        sumESAsw = 1\n",
    "    outfile.write('\\n\\nESA switches:       ')\n",
    "    outfile.write(format(sum(ESAsw), '>4d'))\n",
    "    outfile.write('  (')\n",
    "    outfile.write(format(N_Totl/sumESAsw, '5.2f'))\n",
    "    outfile.write(' words/switch)')\n",
    "    outfile.write('  (')\n",
    "    outfile.write(format(SumCS/NumCS, '5.2f'))\n",
    "    outfile.write(' words/cluster)')"
   ]
  }
 ],
 "metadata": {
  "kernelspec": {
   "display_name": "Python [conda env:old]",
   "language": "python",
   "name": "conda-env-old-py"
  },
  "language_info": {
   "codemirror_mode": {
    "name": "ipython",
    "version": 2
   },
   "file_extension": ".py",
   "mimetype": "text/x-python",
   "name": "python",
   "nbconvert_exporter": "python",
   "pygments_lexer": "ipython2",
   "version": "2.7.13"
  }
 },
 "nbformat": 4,
 "nbformat_minor": 2
}
